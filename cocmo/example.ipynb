{
 "cells": [
  {
   "cell_type": "code",
   "execution_count": 1,
   "metadata": {},
   "outputs": [],
   "source": [
    "import spacy\n",
    "from spacy.matcher import Matcher\n",
    "nlp = spacy.load(\"en_core_web_sm\")\n",
    "import json"
   ]
  },
  {
   "cell_type": "code",
   "execution_count": 5,
   "metadata": {},
   "outputs": [],
   "source": [
    "class question_matcher:\n",
    "    def __init__(self):\n",
    "        self.patterns= []\n",
    "        self.q_json = self.get_questions_json()\n",
    "        self.matcher = Matcher(nlp.vocab)\n",
    "\n",
    "    def get_questions_json(self):\n",
    "        with open('questions.json', 'r') as f:\n",
    "            pat = json.load(f)\n",
    "        return pat\n",
    "    \n",
    "    def define_keyword(self,question:str):\n",
    "        for q in self.q_json:\n",
    "            if q['keyword'] in question.lower():\n",
    "                keyword = q['keyword']\n",
    "                index = q['qid']\n",
    "        return keyword, index\n",
    "\n",
    "    def match_pattern(self,question):\n",
    "        keyword, index = self.define_keyword(question)\n",
    "        for pattern in self.q_json[index]['patterns']:\n",
    "            pos = self.pattern_to_pos(pattern['pos'])\n",
    "            self.matcher.add(pattern['pid'], pos,on_match=self.on_match)\n",
    "            doc = nlp(question)\n",
    "            matches = self.matcher(doc)\n",
    "            if matches != []:\n",
    "                return pattern['pattern']\n",
    "            else:\n",
    "                print('fail')\n",
    "\n",
    "\n",
    "    def on_match(self,matcher, doc, id, matches):\n",
    "        print('Matched!', matches)\n",
    "\n",
    "\n",
    "    def pattern_to_pos(self, patterns:list):\n",
    "        pos = []\n",
    "        pattern = []\n",
    "        for p in patterns:\n",
    "            \n",
    "            itr = []\n",
    "            pattern.append(p)\n",
    "            for token in p.split():\n",
    "                if token != '*':\n",
    "                    itr.append({'POS':token})\n",
    "                else:\n",
    "                    itr.append({})\n",
    "            pos.append(itr)\n",
    "       \n",
    "        return pos\n",
    "qm = question_matcher()\n"
   ]
  },
  {
   "cell_type": "code",
   "execution_count": 6,
   "metadata": {},
   "outputs": [
    {
     "name": "stdout",
     "output_type": "stream",
     "text": [
      "Matched! [(1, 0, 3), (1, 0, 4)]\n",
      "Matched! [(1, 0, 3), (1, 0, 4)]\n"
     ]
    },
    {
     "data": {
      "text/plain": [
       "'who [is,was] [NAME]'"
      ]
     },
     "execution_count": 6,
     "metadata": {},
     "output_type": "execute_result"
    }
   ],
   "source": [
    "qm.match_pattern('who is barak obama')"
   ]
  },
  {
   "cell_type": "code",
   "execution_count": 7,
   "metadata": {},
   "outputs": [
    {
     "name": "stdout",
     "output_type": "stream",
     "text": [
      "fail\n",
      "Matched! [(2, 0, 3)]\n"
     ]
    },
    {
     "data": {
      "text/plain": [
       "'who [is,was] [ENTITY]'"
      ]
     },
     "execution_count": 7,
     "metadata": {},
     "output_type": "execute_result"
    }
   ],
   "source": [
    "qm.match_pattern('who is the president of united states')"
   ]
  },
  {
   "cell_type": "code",
   "execution_count": 9,
   "metadata": {},
   "outputs": [
    {
     "name": "stdout",
     "output_type": "stream",
     "text": [
      "Matched! [(1, 0, 6)]\n"
     ]
    },
    {
     "data": {
      "text/plain": [
       "'give me images that contain [ENTITY]'"
      ]
     },
     "execution_count": 9,
     "metadata": {},
     "output_type": "execute_result"
    }
   ],
   "source": [
    "qm.match_pattern('give me images that contains red color')"
   ]
  },
  {
   "cell_type": "code",
   "execution_count": null,
   "metadata": {},
   "outputs": [],
   "source": []
  }
 ],
 "metadata": {
  "kernelspec": {
   "display_name": "Python 3.8.8 ('base')",
   "language": "python",
   "name": "python3"
  },
  "language_info": {
   "codemirror_mode": {
    "name": "ipython",
    "version": 3
   },
   "file_extension": ".py",
   "mimetype": "text/x-python",
   "name": "python",
   "nbconvert_exporter": "python",
   "pygments_lexer": "ipython3",
   "version": "3.8.8"
  },
  "orig_nbformat": 4,
  "vscode": {
   "interpreter": {
    "hash": "44ee107329cf4a2b10dbf9dc2a835ad7dfaf7406a03f5d729fde60d5b9868961"
   }
  }
 },
 "nbformat": 4,
 "nbformat_minor": 2
}
