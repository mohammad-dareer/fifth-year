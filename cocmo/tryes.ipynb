{
 "cells": [
  {
   "cell_type": "code",
   "execution_count": 1,
   "metadata": {},
   "outputs": [],
   "source": [
    "from rake_nltk import Rake\n",
    "r = Rake()"
   ]
  },
  {
   "cell_type": "code",
   "execution_count": 13,
   "metadata": {},
   "outputs": [],
   "source": [
    "def keywordExtraction(q):\n",
    "        r.extract_keywords_from_text(q)\n",
    "        keywordList           = []\n",
    "        rankedList            = r.get_ranked_phrases_with_scores()\n",
    "        print(rankedList[0][0])\n",
    "        keywords = ''\n",
    "        for keyword in rankedList:\n",
    "            if keyword[0] > 1:\n",
    "                keyword_updated       = keyword[1].split()\n",
    "                keyword_updated_string    = \" \".join(keyword_updated[:2])\n",
    "                keywordList.append(keyword_updated_string)\n",
    "                keywords = keywords + ' ' + keyword_updated_string\n",
    "            # if(len(keywordList)>9):\n",
    "            #     break\n",
    "        return keywords\n"
   ]
  },
  {
   "cell_type": "code",
   "execution_count": 23,
   "metadata": {},
   "outputs": [
    {
     "name": "stdout",
     "output_type": "stream",
     "text": [
      "4.0\n"
     ]
    },
    {
     "data": {
      "text/plain": [
       "' mohammad dareer'"
      ]
     },
     "execution_count": 23,
     "metadata": {},
     "output_type": "execute_result"
    }
   ],
   "source": [
    "keywordExtraction(\"mohammad dareer\")"
   ]
  },
  {
   "cell_type": "code",
   "execution_count": null,
   "metadata": {},
   "outputs": [],
   "source": []
  }
 ],
 "metadata": {
  "kernelspec": {
   "display_name": "Python 3.8.8 ('base')",
   "language": "python",
   "name": "python3"
  },
  "language_info": {
   "codemirror_mode": {
    "name": "ipython",
    "version": 3
   },
   "file_extension": ".py",
   "mimetype": "text/x-python",
   "name": "python",
   "nbconvert_exporter": "python",
   "pygments_lexer": "ipython3",
   "version": "3.8.8"
  },
  "orig_nbformat": 4,
  "vscode": {
   "interpreter": {
    "hash": "44ee107329cf4a2b10dbf9dc2a835ad7dfaf7406a03f5d729fde60d5b9868961"
   }
  }
 },
 "nbformat": 4,
 "nbformat_minor": 2
}
