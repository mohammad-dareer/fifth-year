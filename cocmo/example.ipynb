{
 "cells": [
  {
   "cell_type": "code",
   "execution_count": 1,
   "metadata": {},
   "outputs": [],
   "source": [
    "import spacy\n",
    "from spacy.matcher import Matcher\n",
    "nlp = spacy.load(\"en_core_web_sm\")\n",
    "nlp.add_pipe(\"merge_entities\")\n",
    "nlp.add_pipe(\"merge_noun_chunks\")\n",
    "import json\n",
    "import re"
   ]
  },
  {
   "cell_type": "code",
   "execution_count": 41,
   "metadata": {},
   "outputs": [],
   "source": [
    "class question_matcher:\n",
    "    def __init__(self):\n",
    "        self.patterns= []\n",
    "        self.q_json = self.get_questions_json()\n",
    "        self.matcher = Matcher(nlp.vocab)\n",
    "\n",
    "    def get_questions_json(self):\n",
    "        with open('questions.json', 'r') as f:\n",
    "            pat = json.load(f)\n",
    "        return pat\n",
    "    \n",
    "    def define_keyword(self,question:str):\n",
    "        for q in self.q_json:\n",
    "            if q['keyword'] in question.lower():\n",
    "                keyword = q['keyword']\n",
    "                index = q['qid']\n",
    "        return keyword, index\n",
    "\n",
    "    def get_focus(self,question:str,ind,pattern):\n",
    "        focus =''\n",
    "        focus_pos = pattern['focus']\n",
    "        token_q = [token.text for token in nlp(question)]\n",
    "        i = 0\n",
    "        start = 0\n",
    "        for token in focus_pos[ind].split():\n",
    "            if(token == 'sf'):\n",
    "                start = 1\n",
    "                continue\n",
    "                \n",
    "            if(token == 'ef'):\n",
    "                start = 0\n",
    "                break;\n",
    "            if(start == 1):\n",
    "                focus = focus + ' ' + token_q[i]\n",
    "            i = i + 1\n",
    "        return focus\n",
    "    \n",
    "    def re_get_focus(self,question:str,ind,pattern):\n",
    "        question_token = [token.text for token in nlp(question)]\n",
    "        focus = ''\n",
    "        focus_pos = pattern['focus']\n",
    "        start = 0\n",
    "        i = 0\n",
    "        for token in focus_pos[ind].split('\\s*'):\n",
    "                if(token == 'sf'):\n",
    "                    start = 1\n",
    "                    i = i - 1\n",
    "                    continue\n",
    "                    \n",
    "                if(token == 'ef'):\n",
    "                    start = 0\n",
    "                    break;\n",
    "                if(start == 1):\n",
    "                    focus = focus + ' ' + question_token[i]\n",
    "                i = i + 1\n",
    "        print(focus)\n",
    "\n",
    "    def match_pattern(self,question):\n",
    "        q_pos = [token.pos_ for token in nlp(question)]\n",
    "        keyword, index = self.define_keyword(question)\n",
    "        for pattern in self.q_json[index]['patterns']:\n",
    "            pos = self.pattern_to_pos(pattern['pos'])\n",
    "            self.matcher.add(p, pos)\n",
    "            doc = nlp(question)\n",
    "            matches = self.matcher(doc)\n",
    "            if matches != []:\n",
    "                for match_id, start, end in matches:\n",
    "                    string_id = nlp.vocab.strings[match_id]\n",
    "                    span = doc[start:end]\n",
    "                    print(string_id)\n",
    "                    print(q_pos)\n",
    "                    print(pattern['pos'])\n",
    "                    print(match_id)\n",
    "                    # if((span.text == question) and (q_pos == pattern['pos'][match_id].split())):\n",
    "                    #     print(match_id, string_id, start, end, span.text)\n",
    "                    #     print(self.get_focus(question, match_id,pattern))\n",
    "                    #     return pattern['pattern']\n",
    "            else:\n",
    "                print('fail')\n",
    "\n",
    "    def re_match_pattern(self,question):\n",
    "        doc = nlp(question)\n",
    "        ltoken = [token.text for token in nlp(question)]\n",
    "        q_pattern = ''\n",
    "        for token in doc:\n",
    "            q_pattern = q_pattern + token.pos_ + ' ' \n",
    "        keyword, index = self.define_keyword(question)\n",
    "        for pattern in self.q_json[index]['patterns']:\n",
    "            for pos in pattern['pos']:\n",
    "                regexpos  = f'({pos})'\n",
    "                matches = re.fullmatch(regexpos, q_pattern)\n",
    "                if matches != None:\n",
    "                    print('Matched!')\n",
    "                    print(matches.string)\n",
    "                    print(pattern['pattern'])\n",
    "                    self.re_get_focus(question,index,pattern)\n",
    "\n",
    "\n",
    "    def on_match(self,matcher, doc, id, matches):\n",
    "        print('Matched!', matches)\n",
    "\n",
    "\n",
    "    def pattern_to_pos(self, patterns:list):\n",
    "        pos = []\n",
    "        pattern = []\n",
    "        for p in patterns:\n",
    "            \n",
    "            itr = []\n",
    "            pattern.append(p)\n",
    "            for token in p.split():\n",
    "                if token != '*':\n",
    "                    itr.append({'POS':token})\n",
    "                else:\n",
    "                    itr.append({})\n",
    "            pos.append(itr)\n",
    "        return pos\n",
    "qm = question_matcher()\n"
   ]
  },
  {
   "cell_type": "code",
   "execution_count": 43,
   "metadata": {},
   "outputs": [
    {
     "name": "stdout",
     "output_type": "stream",
     "text": [
      "Matched!\n",
      "PRON AUX PROPN \n",
      "who [is,was] [NAME]\n",
      " mohammad\n"
     ]
    }
   ],
   "source": [
    "qm.re_match_pattern('who is mohammad')"
   ]
  },
  {
   "cell_type": "code",
   "execution_count": 12,
   "metadata": {},
   "outputs": [],
   "source": [
    "with open('questions.json', 'r') as f:\n",
    "    patt = json.load(f)\n",
    "\n"
   ]
  },
  {
   "cell_type": "code",
   "execution_count": 30,
   "metadata": {},
   "outputs": [
    {
     "name": "stdout",
     "output_type": "stream",
     "text": [
      "(\\s*PRON\\s*AUX\\s*NOUN\\s*ADP\\s*PROPN)\n",
      " the president of united states\n"
     ]
    }
   ],
   "source": [
    "question = \"\"\"Who is the president of united states\"\"\"\n",
    "doc = nlp(question)\n",
    "ltoken = [token.text for token in nlp(question)]\n",
    "q_pattern = ''\n",
    "for token in doc:\n",
    "    q_pattern = q_pattern + ' ' + token.pos_ \n",
    "\n",
    "pat = patt[0]['patterns'][0]['pos'][1]\n",
    "focus =patt[0]['patterns'][0]['focus'][1]\n",
    "f =''\n",
    "regpat = f'({pat})'\n",
    "print(regpat)\n",
    "matches = re.fullmatch(regpat, q_pattern)\n",
    "\n",
    "if matches != None:\n",
    "    start = 0\n",
    "    i = 0\n",
    "    for token in focus.split('\\s*'):\n",
    "            if(token == 'sf'):\n",
    "                start = 1\n",
    "                i = i - 1\n",
    "                continue\n",
    "                \n",
    "            if(token == 'ef'):\n",
    "                start = 0\n",
    "                break;\n",
    "            if(start == 1):\n",
    "                f = f + ' ' + ltoken[i]\n",
    "            i = i + 1\n",
    "    print(f)\n",
    "        "
   ]
  },
  {
   "cell_type": "code",
   "execution_count": 3,
   "metadata": {},
   "outputs": [
    {
     "name": "stdout",
     "output_type": "stream",
     "text": [
      "['PRON', 'AUX', 'NOUN']\n",
      "['Who', 'is', 'mohammad dareer']\n"
     ]
    }
   ],
   "source": [
    "doc = nlp(\"Who is mohammad dareer\")\n",
    "print( [token.pos_ for token in doc])\n",
    "print( [token.text for token in doc])"
   ]
  },
  {
   "cell_type": "code",
   "execution_count": 6,
   "metadata": {},
   "outputs": [],
   "source": [
    "qm.re_match_pattern('who is mohammad dareer')"
   ]
  },
  {
   "cell_type": "code",
   "execution_count": null,
   "metadata": {},
   "outputs": [
    {
     "name": "stdout",
     "output_type": "stream",
     "text": [
      "['PRON', 'AUX', 'NOUN', 'ADP', 'PROPN']\n",
      "['who', 'is', 'the president', 'of', 'united states']\n"
     ]
    }
   ],
   "source": [
    "doc = nlp(\"who is the president of united states\")\n",
    "print( [token.pos_ for token in doc])\n",
    "print( [token.text for token in doc])"
   ]
  },
  {
   "cell_type": "code",
   "execution_count": 12,
   "metadata": {},
   "outputs": [
    {
     "data": {
      "text/plain": [
       "'who [is,was] [NAME]'"
      ]
     },
     "execution_count": 12,
     "metadata": {},
     "output_type": "execute_result"
    }
   ],
   "source": [
    "qm.match_pattern('who is the president of united states')"
   ]
  },
  {
   "cell_type": "code",
   "execution_count": 13,
   "metadata": {},
   "outputs": [
    {
     "ename": "IndexError",
     "evalue": "list index out of range",
     "output_type": "error",
     "traceback": [
      "\u001b[1;31m---------------------------------------------------------------------------\u001b[0m",
      "\u001b[1;31mIndexError\u001b[0m                                Traceback (most recent call last)",
      "\u001b[1;32m<ipython-input-13-007c6cfe1420>\u001b[0m in \u001b[0;36m<module>\u001b[1;34m\u001b[0m\n\u001b[1;32m----> 1\u001b[1;33m \u001b[0mqm\u001b[0m\u001b[1;33m.\u001b[0m\u001b[0mmatch_pattern\u001b[0m\u001b[1;33m(\u001b[0m\u001b[1;34m'give me images that contains red color'\u001b[0m\u001b[1;33m)\u001b[0m\u001b[1;33m\u001b[0m\u001b[1;33m\u001b[0m\u001b[0m\n\u001b[0m",
      "\u001b[1;32m<ipython-input-7-dab44df27b5c>\u001b[0m in \u001b[0;36mmatch_pattern\u001b[1;34m(self, question)\u001b[0m\n\u001b[0;32m     50\u001b[0m                     \u001b[0mstring_id\u001b[0m \u001b[1;33m=\u001b[0m \u001b[0mnlp\u001b[0m\u001b[1;33m.\u001b[0m\u001b[0mvocab\u001b[0m\u001b[1;33m.\u001b[0m\u001b[0mstrings\u001b[0m\u001b[1;33m[\u001b[0m\u001b[0mmatch_id\u001b[0m\u001b[1;33m]\u001b[0m  \u001b[1;31m# Get string representation\u001b[0m\u001b[1;33m\u001b[0m\u001b[1;33m\u001b[0m\u001b[0m\n\u001b[0;32m     51\u001b[0m                     \u001b[0mspan\u001b[0m \u001b[1;33m=\u001b[0m \u001b[0mdoc\u001b[0m\u001b[1;33m[\u001b[0m\u001b[0mstart\u001b[0m\u001b[1;33m:\u001b[0m\u001b[0mend\u001b[0m\u001b[1;33m]\u001b[0m  \u001b[1;31m# The matched span1\u001b[0m\u001b[1;33m\u001b[0m\u001b[1;33m\u001b[0m\u001b[0m\n\u001b[1;32m---> 52\u001b[1;33m                     \u001b[1;32mif\u001b[0m\u001b[1;33m(\u001b[0m\u001b[1;33m(\u001b[0m\u001b[0mspan\u001b[0m\u001b[1;33m.\u001b[0m\u001b[0mtext\u001b[0m \u001b[1;33m==\u001b[0m \u001b[0mquestion\u001b[0m\u001b[1;33m)\u001b[0m \u001b[1;32mand\u001b[0m \u001b[1;33m(\u001b[0m\u001b[0mq_pos\u001b[0m \u001b[1;33m==\u001b[0m \u001b[0mpattern\u001b[0m\u001b[1;33m[\u001b[0m\u001b[1;34m'pos'\u001b[0m\u001b[1;33m]\u001b[0m\u001b[1;33m[\u001b[0m\u001b[0mmatch_id\u001b[0m\u001b[1;33m]\u001b[0m\u001b[1;33m)\u001b[0m\u001b[1;33m)\u001b[0m\u001b[1;33m:\u001b[0m\u001b[1;33m\u001b[0m\u001b[1;33m\u001b[0m\u001b[0m\n\u001b[0m\u001b[0;32m     53\u001b[0m                         \u001b[0mprint\u001b[0m\u001b[1;33m(\u001b[0m\u001b[0mmatch_id\u001b[0m\u001b[1;33m,\u001b[0m \u001b[0mstring_id\u001b[0m\u001b[1;33m,\u001b[0m \u001b[0mstart\u001b[0m\u001b[1;33m,\u001b[0m \u001b[0mend\u001b[0m\u001b[1;33m,\u001b[0m \u001b[0mspan\u001b[0m\u001b[1;33m.\u001b[0m\u001b[0mtext\u001b[0m\u001b[1;33m)\u001b[0m\u001b[1;33m\u001b[0m\u001b[1;33m\u001b[0m\u001b[0m\n\u001b[0;32m     54\u001b[0m                         \u001b[0mprint\u001b[0m\u001b[1;33m(\u001b[0m\u001b[0mself\u001b[0m\u001b[1;33m.\u001b[0m\u001b[0mget_focus\u001b[0m\u001b[1;33m(\u001b[0m\u001b[0mquestion\u001b[0m\u001b[1;33m,\u001b[0m \u001b[0mmatch_id\u001b[0m\u001b[1;33m,\u001b[0m\u001b[0mpattern\u001b[0m\u001b[1;33m)\u001b[0m\u001b[1;33m)\u001b[0m\u001b[1;33m\u001b[0m\u001b[1;33m\u001b[0m\u001b[0m\n",
      "\u001b[1;31mIndexError\u001b[0m: list index out of range"
     ]
    }
   ],
   "source": [
    "qm.match_pattern('give me images that contains red color')"
   ]
  },
  {
   "cell_type": "code",
   "execution_count": null,
   "metadata": {},
   "outputs": [],
   "source": []
  }
 ],
 "metadata": {
  "kernelspec": {
   "display_name": "Python 3.8.8 ('base')",
   "language": "python",
   "name": "python3"
  },
  "language_info": {
   "codemirror_mode": {
    "name": "ipython",
    "version": 3
   },
   "file_extension": ".py",
   "mimetype": "text/x-python",
   "name": "python",
   "nbconvert_exporter": "python",
   "pygments_lexer": "ipython3",
   "version": "3.8.8"
  },
  "orig_nbformat": 4,
  "vscode": {
   "interpreter": {
    "hash": "44ee107329cf4a2b10dbf9dc2a835ad7dfaf7406a03f5d729fde60d5b9868961"
   }
  }
 },
 "nbformat": 4,
 "nbformat_minor": 2
}
