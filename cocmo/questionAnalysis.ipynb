{
 "cells": [
  {
   "cell_type": "code",
<<<<<<< HEAD
   "execution_count": 3,
=======
   "execution_count": 5,
>>>>>>> 9b93ece5c8a469fa1ce428a0016c8c000d204860
   "metadata": {},
   "outputs": [],
   "source": [
    "import json\n",
    "import pandas as pd\n",
    "from collections import deque\n",
    "from elasticsearch import Elasticsearch\n",
    "from elasticsearch.helpers import parallel_bulk\n",
    "import cv2\n",
    "from matplotlib import pyplot as plt\n",
    "import spacy\n",
    "from spacy import displacy\n",
    "from spacy.matcher import Matcher\n",
    "nlp = spacy.load(\"en_core_web_sm\")"
   ]
  },
  {
   "cell_type": "code",
   "execution_count": 2,
   "metadata": {},
   "outputs": [],
   "source": [
    "from elasticsearch import helpers\n",
    "client = Elasticsearch(\n",
    "    \"http://localhost:9200\",\n",
    "     basic_auth=(\"elastic\", \"elastic\")\n",
    "\n",
    ")\n",
    "resp = client.info()"
   ]
  },
  {
   "cell_type": "code",
   "execution_count": 3,
   "metadata": {},
   "outputs": [],
   "source": [
    "with open('captions\\annotations\\captions_val2014.json', 'r') as f:\n",
    "    data = json.load(f);\n",
    "\n",
    "anno_df = pd.DataFrame(data['annotations'])"
   ]
  },
  {
   "cell_type": "code",
   "execution_count": 33,
   "metadata": {},
   "outputs": [],
   "source": [
    "doc_setting = {\n",
    "  \n",
    "        \"analysis\": {\n",
    "            \"analyzer\": {\n",
    "                \"my_analyzer_keyword\": {\n",
    "                    \"type\": \"custom\",\n",
    "                    \"tokenizer\": \"keyword\",\n",
    "                    \"filter\": [\n",
    "                        \"asciifolding\",\n",
    "                        \"lowercase\",\n",
    "                        \"stemmer\"\n",
    "                    ]\n",
    "                },\n",
    "                \"my_analyzer_shingle\": {\n",
    "                    \"type\": \"custom\",\n",
    "                    \"tokenizer\": \"standard\",\n",
    "                    \"filter\": [\n",
    "                        \"asciifolding\",\n",
    "                        \"lowercase\",\n",
    "                        \"stemmer\"\n",
    "                    ]\n",
    "                }\n",
    "            },\n",
    "        }\n",
    "   \n",
    "}\n",
    "\n",
    "mappings = {\n",
    "  \n",
    "   \n",
    "            \"properties\": {\n",
    "                'id':{\n",
    "                    'type': \"integer\"\n",
    "                },\n",
    "                \"caption\": {\n",
    "                    \"type\": \"text\",\n",
    "                    \"analyzer\": \"my_analyzer_shingle\",\n",
    "                    \"search_analyzer\": \"my_analyzer_shingle\"\n",
    "                },\n",
    "                 \"image_id\": {\"type\": \"integer\"},\n",
    "            }\n",
    "        \n",
    "    \n",
    "}"
   ]
  },
  {
   "cell_type": "code",
   "execution_count": 35,
   "metadata": {},
   "outputs": [
    {
     "name": "stdout",
     "output_type": "stream",
     "text": [
      "Got 11 Hits:\n",
      "A bicycle replica with a clock as the front wheel. 203564: 37\n",
      "A black Honda motorcycle parked in front of a garage. 179765: 38\n",
      "A room with blue walls and a white sink and door. 322141: 49\n",
      "A car that seems to be parked illegally behind a legally parked car 16977: 89\n",
      "A large passenger airplane flying through the air. 106140: 98\n",
      "There is a GOL plane taking off in a partly cloudy sky. 106140: 101\n",
      "Blue and white color scheme in a small bathroom. 322141: 109\n",
      "This is a blue and white bathroom with a wall sink and a lifesaver on the wall. 322141: 121\n",
      "A blue boat themed bathroom with a life preserver on the wall 322141: 163\n",
      "The bike has a clock as a tire. 203564: 181\n"
     ]
    }
   ],
   "source": [
    "all = client.search(index=\"testcocomo22\", query={\"match_all\": {}})\n",
    "print(\"Got %d Hits:\" % all['hits']['total']['value'])\n",
    "for hit in all['hits']['hits']:\n",
    "    print(\"%(caption)s %(image_id)s: %(id)s\" % hit[\"_source\"])"
   ]
  },
  {
   "cell_type": "code",
   "execution_count": 37,
   "metadata": {},
   "outputs": [
    {
     "data": {
      "text/plain": [
       "deque([])"
      ]
     },
     "execution_count": 37,
     "metadata": {},
     "output_type": "execute_result"
    }
   ],
   "source": [
    "def gendata():\n",
    "    i = 0\n",
    "    for rec in data['annotations']:\n",
    "        yield {\n",
    "            \"_index\": 'cocomo',\n",
    "            \"_source\": rec\n",
    "        }\n",
    "        if(i>200000):\n",
    "            break\n",
    "        \n",
    "\n",
    "pb = parallel_bulk(client, gendata(), \n",
    "                    chunk_size=10000, thread_count=16, queue_size=16)\n",
    "deque(pb, maxlen=0)"
   ]
  },
  {
   "cell_type": "code",
   "execution_count": 38,
   "metadata": {},
   "outputs": [
    {
     "name": "stdout",
     "output_type": "stream",
     "text": [
      "{'total': {'value': 10000, 'relation': 'gte'}, 'max_score': 1.0, 'hits': [{'_index': 'cocomo', '_id': 'd5XugIEBXybHSoPEFVrA', '_score': 1.0, '_source': {'image_id': 203564, 'id': 37, 'caption': 'A bicycle replica with a clock as the front wheel.'}}, {'_index': 'cocomo', '_id': 'eJXugIEBXybHSoPEFVrA', '_score': 1.0, '_source': {'image_id': 179765, 'id': 38, 'caption': 'A black Honda motorcycle parked in front of a garage.'}}, {'_index': 'cocomo', '_id': 'eZXugIEBXybHSoPEFVrA', '_score': 1.0, '_source': {'image_id': 322141, 'id': 49, 'caption': 'A room with blue walls and a white sink and door.'}}, {'_index': 'cocomo', '_id': 'epXugIEBXybHSoPEFVrA', '_score': 1.0, '_source': {'image_id': 16977, 'id': 89, 'caption': 'A car that seems to be parked illegally behind a legally parked car'}}, {'_index': 'cocomo', '_id': 'e5XugIEBXybHSoPEFVrA', '_score': 1.0, '_source': {'image_id': 106140, 'id': 98, 'caption': 'A large passenger airplane flying through the air.'}}, {'_index': 'cocomo', '_id': 'fJXugIEBXybHSoPEFVrA', '_score': 1.0, '_source': {'image_id': 106140, 'id': 101, 'caption': 'There is a GOL plane taking off in a partly cloudy sky.'}}, {'_index': 'cocomo', '_id': 'fZXugIEBXybHSoPEFVrA', '_score': 1.0, '_source': {'image_id': 322141, 'id': 109, 'caption': 'Blue and white color scheme in a small bathroom.'}}, {'_index': 'cocomo', '_id': 'fpXugIEBXybHSoPEFVrA', '_score': 1.0, '_source': {'image_id': 322141, 'id': 121, 'caption': 'This is a blue and white bathroom with a wall sink and a lifesaver on the wall.'}}, {'_index': 'cocomo', '_id': 'f5XugIEBXybHSoPEFVrA', '_score': 1.0, '_source': {'image_id': 322141, 'id': 163, 'caption': 'A blue boat themed bathroom with a life preserver on the wall'}}, {'_index': 'cocomo', '_id': 'gJXugIEBXybHSoPEFVrA', '_score': 1.0, '_source': {'image_id': 203564, 'id': 181, 'caption': 'The bike has a clock as a tire.'}}]}\n"
     ]
    }
   ],
   "source": [
    "all = client.search(index=\"cocomo\", query={\"match_all\": {}})\n",
    "print(all['hits'])\n",
    "# print(\"Got %d Hits:\" % all['hits']['total'])\n",
    "# for hit in all['hits']['hits']:\n",
    "#     print(\"%(caption)s %(image_id)s: %(id)s\" % hit[\"_source\"])"
   ]
  },
  {
   "cell_type": "code",
   "execution_count": 7,
   "metadata": {},
   "outputs": [
    {
     "name": "stdout",
     "output_type": "stream",
     "text": [
      "Got 160 Hits:\n",
      "['A United States air plane taking off .', 'A motorcycle with United States Marine Corp markings.', 'A row of United States Army military fighter jets.', 'A cake designed to resemble the united states flag', 'The President of the United States giving a stirring speech.', 'The president of the United States walking beside a building.', 'A raised United States of America flag on a pole', 'A kite flying over a large flying united states flag.', 'an image of the president of the united states of America\\n', 'The president of the United States pointing behind him during a speech.']\n"
     ]
    }
   ],
   "source": [
    "query = {\n",
    "            \"match\": {\n",
    "            \"caption\": \" united states\"\n",
    "            }\n",
    "        }\n",
    "image_ids =[]\n",
    "image_caption =[]\n",
    "resp = client.search(index=\"cocomo\", query=query)\n",
    "print(\"Got %d Hits:\" % resp['hits']['total']['value'])\n",
    "for hit in resp['hits']['hits']:\n",
    "  \n",
    "    image_ids.append(hit['_source']['image_id'])\n",
    "    image_caption.append(hit['_source']['caption'])\n",
    "print(image_caption)"
   ]
  },
  {
   "cell_type": "code",
<<<<<<< HEAD
   "execution_count": 5,
=======
   "execution_count": 18,
>>>>>>> 9b93ece5c8a469fa1ce428a0016c8c000d204860
   "metadata": {},
   "outputs": [],
   "source": [
    "class sys:\n",
    "    def __init__(self):\n",
    "        self.image_ids =[]\n",
    "        self.image_caption =[]\n",
    "\n",
    "    def search(self,query):\n",
    "        self.image_ids =[]\n",
    "        self.image_caption =[]\n",
    "        query = {\n",
    "            \"match\": {\n",
    "            \"caption\": query\n",
    "            }\n",
    "        }\n",
    "        resp = client.search(index=\"cocomo\", query=query,size=20)\n",
    "        print(\"Got %d Hits:\" % resp['hits']['total']['value'])\n",
    "        for hit in resp['hits']['hits']:\n",
    "          #  print(\"%(caption)s : %(image_id)s : %(id)s\" % hit[\"_source\"])\n",
    "            self.image_ids.append(hit['_source']['image_id'])\n",
    "            self.image_caption.append(hit['_source']['caption'])\n",
    "        self.display();\n",
    "        \n",
    "    def display(self):\n",
    "        i = 0\n",
    "        plt.figure(figsize=(25,50))\n",
    "        columns = 2\n",
    "        for i, id in enumerate(self.image_ids):\n",
    "            plt.subplot(10, 3, i + 1)\n",
    "            path = '..\\..\\Cocomo2014\\\\val2014\\\\val2014\\COCO_val2014_'+ '0'*(12 - len(str(id))) + str(id) +'.jpg'\n",
    "            img = cv2.imread(path)\n",
    "            print(img)\n",
    "           # img = cv2.cvtColor(img, cv2.COLOR_BGR2RGB)\n",
    "            plt.title(self.image_caption[i])\n",
    "            plt.imshow(img)\n",
    "ir = sys()\n"
   ]
  },
  {
   "cell_type": "code",
<<<<<<< HEAD
   "execution_count": 6,
=======
   "execution_count": 19,
>>>>>>> 9b93ece5c8a469fa1ce428a0016c8c000d204860
   "metadata": {},
   "outputs": [
    {
     "name": "stdout",
     "output_type": "stream",
     "text": [
      "Got 10000 Hits:\n",
      "None\n"
     ]
    },
    {
     "ename": "TypeError",
     "evalue": "Image data of dtype object cannot be converted to float",
     "output_type": "error",
     "traceback": [
      "\u001b[1;31m---------------------------------------------------------------------------\u001b[0m",
      "\u001b[1;31mTypeError\u001b[0m                                 Traceback (most recent call last)",
      "\u001b[1;32m<ipython-input-19-fa96ac5e739a>\u001b[0m in \u001b[0;36m<module>\u001b[1;34m\u001b[0m\n\u001b[1;32m----> 1\u001b[1;33m \u001b[0mir\u001b[0m\u001b[1;33m.\u001b[0m\u001b[0msearch\u001b[0m\u001b[1;33m(\u001b[0m\u001b[1;34m'president of united states'\u001b[0m\u001b[1;33m)\u001b[0m\u001b[1;33m\u001b[0m\u001b[1;33m\u001b[0m\u001b[0m\n\u001b[0m",
      "\u001b[1;32m<ipython-input-18-178acbd82aaf>\u001b[0m in \u001b[0;36msearch\u001b[1;34m(self, query)\u001b[0m\n\u001b[0;32m     18\u001b[0m             \u001b[0mself\u001b[0m\u001b[1;33m.\u001b[0m\u001b[0mimage_ids\u001b[0m\u001b[1;33m.\u001b[0m\u001b[0mappend\u001b[0m\u001b[1;33m(\u001b[0m\u001b[0mhit\u001b[0m\u001b[1;33m[\u001b[0m\u001b[1;34m'_source'\u001b[0m\u001b[1;33m]\u001b[0m\u001b[1;33m[\u001b[0m\u001b[1;34m'image_id'\u001b[0m\u001b[1;33m]\u001b[0m\u001b[1;33m)\u001b[0m\u001b[1;33m\u001b[0m\u001b[1;33m\u001b[0m\u001b[0m\n\u001b[0;32m     19\u001b[0m             \u001b[0mself\u001b[0m\u001b[1;33m.\u001b[0m\u001b[0mimage_caption\u001b[0m\u001b[1;33m.\u001b[0m\u001b[0mappend\u001b[0m\u001b[1;33m(\u001b[0m\u001b[0mhit\u001b[0m\u001b[1;33m[\u001b[0m\u001b[1;34m'_source'\u001b[0m\u001b[1;33m]\u001b[0m\u001b[1;33m[\u001b[0m\u001b[1;34m'caption'\u001b[0m\u001b[1;33m]\u001b[0m\u001b[1;33m)\u001b[0m\u001b[1;33m\u001b[0m\u001b[1;33m\u001b[0m\u001b[0m\n\u001b[1;32m---> 20\u001b[1;33m         \u001b[0mself\u001b[0m\u001b[1;33m.\u001b[0m\u001b[0mdisplay\u001b[0m\u001b[1;33m(\u001b[0m\u001b[1;33m)\u001b[0m\u001b[1;33m;\u001b[0m\u001b[1;33m\u001b[0m\u001b[1;33m\u001b[0m\u001b[0m\n\u001b[0m\u001b[0;32m     21\u001b[0m \u001b[1;33m\u001b[0m\u001b[0m\n\u001b[0;32m     22\u001b[0m     \u001b[1;32mdef\u001b[0m \u001b[0mdisplay\u001b[0m\u001b[1;33m(\u001b[0m\u001b[0mself\u001b[0m\u001b[1;33m)\u001b[0m\u001b[1;33m:\u001b[0m\u001b[1;33m\u001b[0m\u001b[1;33m\u001b[0m\u001b[0m\n",
      "\u001b[1;32m<ipython-input-18-178acbd82aaf>\u001b[0m in \u001b[0;36mdisplay\u001b[1;34m(self)\u001b[0m\n\u001b[0;32m     31\u001b[0m            \u001b[1;31m# img = cv2.cvtColor(img, cv2.COLOR_BGR2RGB)\u001b[0m\u001b[1;33m\u001b[0m\u001b[1;33m\u001b[0m\u001b[1;33m\u001b[0m\u001b[0m\n\u001b[0;32m     32\u001b[0m             \u001b[0mplt\u001b[0m\u001b[1;33m.\u001b[0m\u001b[0mtitle\u001b[0m\u001b[1;33m(\u001b[0m\u001b[0mself\u001b[0m\u001b[1;33m.\u001b[0m\u001b[0mimage_caption\u001b[0m\u001b[1;33m[\u001b[0m\u001b[0mi\u001b[0m\u001b[1;33m]\u001b[0m\u001b[1;33m)\u001b[0m\u001b[1;33m\u001b[0m\u001b[1;33m\u001b[0m\u001b[0m\n\u001b[1;32m---> 33\u001b[1;33m             \u001b[0mplt\u001b[0m\u001b[1;33m.\u001b[0m\u001b[0mimshow\u001b[0m\u001b[1;33m(\u001b[0m\u001b[0mimg\u001b[0m\u001b[1;33m)\u001b[0m\u001b[1;33m\u001b[0m\u001b[1;33m\u001b[0m\u001b[0m\n\u001b[0m\u001b[0;32m     34\u001b[0m \u001b[0mir\u001b[0m \u001b[1;33m=\u001b[0m \u001b[0msys\u001b[0m\u001b[1;33m(\u001b[0m\u001b[1;33m)\u001b[0m\u001b[1;33m\u001b[0m\u001b[1;33m\u001b[0m\u001b[0m\n",
      "\u001b[1;32mc:\\Users\\Mohammad Dareer\\anaconda3\\lib\\site-packages\\matplotlib\\_api\\deprecation.py\u001b[0m in \u001b[0;36mwrapper\u001b[1;34m(*args, **kwargs)\u001b[0m\n\u001b[0;32m    457\u001b[0m                 \u001b[1;34m\"parameter will become keyword-only %(removal)s.\"\u001b[0m\u001b[1;33m,\u001b[0m\u001b[1;33m\u001b[0m\u001b[1;33m\u001b[0m\u001b[0m\n\u001b[0;32m    458\u001b[0m                 name=name, obj_type=f\"parameter of {func.__name__}()\")\n\u001b[1;32m--> 459\u001b[1;33m         \u001b[1;32mreturn\u001b[0m \u001b[0mfunc\u001b[0m\u001b[1;33m(\u001b[0m\u001b[1;33m*\u001b[0m\u001b[0margs\u001b[0m\u001b[1;33m,\u001b[0m \u001b[1;33m**\u001b[0m\u001b[0mkwargs\u001b[0m\u001b[1;33m)\u001b[0m\u001b[1;33m\u001b[0m\u001b[1;33m\u001b[0m\u001b[0m\n\u001b[0m\u001b[0;32m    460\u001b[0m \u001b[1;33m\u001b[0m\u001b[0m\n\u001b[0;32m    461\u001b[0m     \u001b[1;31m# Don't modify *func*'s signature, as boilerplate.py needs it.\u001b[0m\u001b[1;33m\u001b[0m\u001b[1;33m\u001b[0m\u001b[1;33m\u001b[0m\u001b[0m\n",
      "\u001b[1;32mc:\\Users\\Mohammad Dareer\\anaconda3\\lib\\site-packages\\matplotlib\\pyplot.py\u001b[0m in \u001b[0;36mimshow\u001b[1;34m(X, cmap, norm, aspect, interpolation, alpha, vmin, vmax, origin, extent, interpolation_stage, filternorm, filterrad, resample, url, data, **kwargs)\u001b[0m\n\u001b[0;32m   2650\u001b[0m         \u001b[0minterpolation_stage\u001b[0m\u001b[1;33m=\u001b[0m\u001b[1;32mNone\u001b[0m\u001b[1;33m,\u001b[0m \u001b[0mfilternorm\u001b[0m\u001b[1;33m=\u001b[0m\u001b[1;32mTrue\u001b[0m\u001b[1;33m,\u001b[0m \u001b[0mfilterrad\u001b[0m\u001b[1;33m=\u001b[0m\u001b[1;36m4.0\u001b[0m\u001b[1;33m,\u001b[0m\u001b[1;33m\u001b[0m\u001b[1;33m\u001b[0m\u001b[0m\n\u001b[0;32m   2651\u001b[0m         resample=None, url=None, data=None, **kwargs):\n\u001b[1;32m-> 2652\u001b[1;33m     __ret = gca().imshow(\n\u001b[0m\u001b[0;32m   2653\u001b[0m         \u001b[0mX\u001b[0m\u001b[1;33m,\u001b[0m \u001b[0mcmap\u001b[0m\u001b[1;33m=\u001b[0m\u001b[0mcmap\u001b[0m\u001b[1;33m,\u001b[0m \u001b[0mnorm\u001b[0m\u001b[1;33m=\u001b[0m\u001b[0mnorm\u001b[0m\u001b[1;33m,\u001b[0m \u001b[0maspect\u001b[0m\u001b[1;33m=\u001b[0m\u001b[0maspect\u001b[0m\u001b[1;33m,\u001b[0m\u001b[1;33m\u001b[0m\u001b[1;33m\u001b[0m\u001b[0m\n\u001b[0;32m   2654\u001b[0m         \u001b[0minterpolation\u001b[0m\u001b[1;33m=\u001b[0m\u001b[0minterpolation\u001b[0m\u001b[1;33m,\u001b[0m \u001b[0malpha\u001b[0m\u001b[1;33m=\u001b[0m\u001b[0malpha\u001b[0m\u001b[1;33m,\u001b[0m \u001b[0mvmin\u001b[0m\u001b[1;33m=\u001b[0m\u001b[0mvmin\u001b[0m\u001b[1;33m,\u001b[0m\u001b[1;33m\u001b[0m\u001b[1;33m\u001b[0m\u001b[0m\n",
      "\u001b[1;32mc:\\Users\\Mohammad Dareer\\anaconda3\\lib\\site-packages\\matplotlib\\_api\\deprecation.py\u001b[0m in \u001b[0;36mwrapper\u001b[1;34m(*args, **kwargs)\u001b[0m\n\u001b[0;32m    457\u001b[0m                 \u001b[1;34m\"parameter will become keyword-only %(removal)s.\"\u001b[0m\u001b[1;33m,\u001b[0m\u001b[1;33m\u001b[0m\u001b[1;33m\u001b[0m\u001b[0m\n\u001b[0;32m    458\u001b[0m                 name=name, obj_type=f\"parameter of {func.__name__}()\")\n\u001b[1;32m--> 459\u001b[1;33m         \u001b[1;32mreturn\u001b[0m \u001b[0mfunc\u001b[0m\u001b[1;33m(\u001b[0m\u001b[1;33m*\u001b[0m\u001b[0margs\u001b[0m\u001b[1;33m,\u001b[0m \u001b[1;33m**\u001b[0m\u001b[0mkwargs\u001b[0m\u001b[1;33m)\u001b[0m\u001b[1;33m\u001b[0m\u001b[1;33m\u001b[0m\u001b[0m\n\u001b[0m\u001b[0;32m    460\u001b[0m \u001b[1;33m\u001b[0m\u001b[0m\n\u001b[0;32m    461\u001b[0m     \u001b[1;31m# Don't modify *func*'s signature, as boilerplate.py needs it.\u001b[0m\u001b[1;33m\u001b[0m\u001b[1;33m\u001b[0m\u001b[1;33m\u001b[0m\u001b[0m\n",
      "\u001b[1;32mc:\\Users\\Mohammad Dareer\\anaconda3\\lib\\site-packages\\matplotlib\\__init__.py\u001b[0m in \u001b[0;36minner\u001b[1;34m(ax, data, *args, **kwargs)\u001b[0m\n\u001b[0;32m   1410\u001b[0m     \u001b[1;32mdef\u001b[0m \u001b[0minner\u001b[0m\u001b[1;33m(\u001b[0m\u001b[0max\u001b[0m\u001b[1;33m,\u001b[0m \u001b[1;33m*\u001b[0m\u001b[0margs\u001b[0m\u001b[1;33m,\u001b[0m \u001b[0mdata\u001b[0m\u001b[1;33m=\u001b[0m\u001b[1;32mNone\u001b[0m\u001b[1;33m,\u001b[0m \u001b[1;33m**\u001b[0m\u001b[0mkwargs\u001b[0m\u001b[1;33m)\u001b[0m\u001b[1;33m:\u001b[0m\u001b[1;33m\u001b[0m\u001b[1;33m\u001b[0m\u001b[0m\n\u001b[0;32m   1411\u001b[0m         \u001b[1;32mif\u001b[0m \u001b[0mdata\u001b[0m \u001b[1;32mis\u001b[0m \u001b[1;32mNone\u001b[0m\u001b[1;33m:\u001b[0m\u001b[1;33m\u001b[0m\u001b[1;33m\u001b[0m\u001b[0m\n\u001b[1;32m-> 1412\u001b[1;33m             \u001b[1;32mreturn\u001b[0m \u001b[0mfunc\u001b[0m\u001b[1;33m(\u001b[0m\u001b[0max\u001b[0m\u001b[1;33m,\u001b[0m \u001b[1;33m*\u001b[0m\u001b[0mmap\u001b[0m\u001b[1;33m(\u001b[0m\u001b[0msanitize_sequence\u001b[0m\u001b[1;33m,\u001b[0m \u001b[0margs\u001b[0m\u001b[1;33m)\u001b[0m\u001b[1;33m,\u001b[0m \u001b[1;33m**\u001b[0m\u001b[0mkwargs\u001b[0m\u001b[1;33m)\u001b[0m\u001b[1;33m\u001b[0m\u001b[1;33m\u001b[0m\u001b[0m\n\u001b[0m\u001b[0;32m   1413\u001b[0m \u001b[1;33m\u001b[0m\u001b[0m\n\u001b[0;32m   1414\u001b[0m         \u001b[0mbound\u001b[0m \u001b[1;33m=\u001b[0m \u001b[0mnew_sig\u001b[0m\u001b[1;33m.\u001b[0m\u001b[0mbind\u001b[0m\u001b[1;33m(\u001b[0m\u001b[0max\u001b[0m\u001b[1;33m,\u001b[0m \u001b[1;33m*\u001b[0m\u001b[0margs\u001b[0m\u001b[1;33m,\u001b[0m \u001b[1;33m**\u001b[0m\u001b[0mkwargs\u001b[0m\u001b[1;33m)\u001b[0m\u001b[1;33m\u001b[0m\u001b[1;33m\u001b[0m\u001b[0m\n",
      "\u001b[1;32mc:\\Users\\Mohammad Dareer\\anaconda3\\lib\\site-packages\\matplotlib\\axes\\_axes.py\u001b[0m in \u001b[0;36mimshow\u001b[1;34m(self, X, cmap, norm, aspect, interpolation, alpha, vmin, vmax, origin, extent, interpolation_stage, filternorm, filterrad, resample, url, **kwargs)\u001b[0m\n\u001b[0;32m   5479\u001b[0m                               **kwargs)\n\u001b[0;32m   5480\u001b[0m \u001b[1;33m\u001b[0m\u001b[0m\n\u001b[1;32m-> 5481\u001b[1;33m         \u001b[0mim\u001b[0m\u001b[1;33m.\u001b[0m\u001b[0mset_data\u001b[0m\u001b[1;33m(\u001b[0m\u001b[0mX\u001b[0m\u001b[1;33m)\u001b[0m\u001b[1;33m\u001b[0m\u001b[1;33m\u001b[0m\u001b[0m\n\u001b[0m\u001b[0;32m   5482\u001b[0m         \u001b[0mim\u001b[0m\u001b[1;33m.\u001b[0m\u001b[0mset_alpha\u001b[0m\u001b[1;33m(\u001b[0m\u001b[0malpha\u001b[0m\u001b[1;33m)\u001b[0m\u001b[1;33m\u001b[0m\u001b[1;33m\u001b[0m\u001b[0m\n\u001b[0;32m   5483\u001b[0m         \u001b[1;32mif\u001b[0m \u001b[0mim\u001b[0m\u001b[1;33m.\u001b[0m\u001b[0mget_clip_path\u001b[0m\u001b[1;33m(\u001b[0m\u001b[1;33m)\u001b[0m \u001b[1;32mis\u001b[0m \u001b[1;32mNone\u001b[0m\u001b[1;33m:\u001b[0m\u001b[1;33m\u001b[0m\u001b[1;33m\u001b[0m\u001b[0m\n",
      "\u001b[1;32mc:\\Users\\Mohammad Dareer\\anaconda3\\lib\\site-packages\\matplotlib\\image.py\u001b[0m in \u001b[0;36mset_data\u001b[1;34m(self, A)\u001b[0m\n\u001b[0;32m    704\u001b[0m         if (self._A.dtype != np.uint8 and\n\u001b[0;32m    705\u001b[0m                 not np.can_cast(self._A.dtype, float, \"same_kind\")):\n\u001b[1;32m--> 706\u001b[1;33m             raise TypeError(\"Image data of dtype {} cannot be converted to \"\n\u001b[0m\u001b[0;32m    707\u001b[0m                             \"float\".format(self._A.dtype))\n\u001b[0;32m    708\u001b[0m \u001b[1;33m\u001b[0m\u001b[0m\n",
      "\u001b[1;31mTypeError\u001b[0m: Image data of dtype object cannot be converted to float"
     ]
    },
    {
     "data": {
      "image/png": "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",
      "text/plain": [
       "<Figure size 1800x3600 with 1 Axes>"
      ]
     },
     "metadata": {
      "needs_background": "light"
     },
     "output_type": "display_data"
    }
   ],
   "source": [
    "ir.search('president of united states') "
   ]
  },
  {
   "cell_type": "code",
   "execution_count": 9,
   "metadata": {},
   "outputs": [],
   "source": [
    "sent = ir.image_caption[0]"
   ]
  },
  {
   "cell_type": "code",
   "execution_count": 24,
   "metadata": {},
   "outputs": [
    {
     "data": {
      "text/plain": [
       "<function spacy.pipeline.functions.merge_entities(doc: spacy.tokens.doc.Doc)>"
      ]
     },
     "execution_count": 24,
     "metadata": {},
     "output_type": "execute_result"
    }
   ],
   "source": [
    "nlp.add_pipe(\"merge_entities\")\n",
    "nlp.add_pipe(\"merge_noun_chunks\")"
   ]
  },
  {
   "cell_type": "code",
   "execution_count": 7,
   "metadata": {},
   "outputs": [
    {
     "name": "stdout",
     "output_type": "stream",
     "text": [
      "United States President Barack Obama gives a speech in front of American and Russian flags.\n",
      "United States President Barack Obama\n",
      "a speech\n",
      "front\n",
      "American and Russian flags\n"
     ]
    }
   ],
   "source": [
    "doc = nlp(ir.image_caption[5])\n",
    "print(ir.image_caption[5])\n",
    "# for ent in doc.ents:\n",
    "#     print(ent.text, ent.start_char, ent.end_char, ent.label_)\n",
    "\n",
    "#displacy.serve(doc, style=\"ent\")\n",
    "\n",
    "for chunk in doc.noun_chunks:\n",
    "    print(chunk.text)"
   ]
  },
  {
   "cell_type": "code",
   "execution_count": 4,
   "metadata": {},
   "outputs": [],
   "source": [
    "from spacy.matcher import Matcher\n",
    "matcher = Matcher(nlp.vocab)"
   ]
  },
  {
   "cell_type": "code",
   "execution_count": 51,
   "metadata": {},
   "outputs": [
    {
     "name": "stdout",
     "output_type": "stream",
     "text": [
      "Who\n",
      "the united states president\n"
     ]
    }
   ],
   "source": [
    "doc = nlp(\"Who is the united states president\")\n",
    "for chunk in doc.noun_chunks:\n",
    "    print(chunk.text)"
   ]
  },
  {
   "cell_type": "code",
   "execution_count": 43,
   "metadata": {},
   "outputs": [
    {
     "name": "stdout",
     "output_type": "stream",
     "text": [
      "['PRON', 'AUX', 'PROPN', 'NOUN', 'PUNCT']\n",
      "['Who', 'is', 'mohammad', 'dareer', '?']\n",
      "Who\n",
      "mohammad dareer\n"
     ]
    }
   ],
   "source": [
    "doc = nlp(\"Who is mohammad dareer?\")\n",
    "print( [token.pos_ for token in doc])\n",
    "print( [token.text for token in doc])\n",
    "for chunk in doc.noun_chunks:\n",
    "    print(chunk.text)"
   ]
  },
  {
   "cell_type": "code",
   "execution_count": 7,
   "metadata": {},
   "outputs": [
    {
     "name": "stdout",
     "output_type": "stream",
     "text": [
      "['VERB', 'PRON', 'NOUN', 'PRON', 'VERB', 'ADJ', 'NOUN']\n"
     ]
    }
   ],
   "source": [
    "doc = nlp(\"give me photos that contains red color\")\n",
    "print( [token.pos_ for token in doc]) "
   ]
  },
  {
   "cell_type": "code",
   "execution_count": 53,
   "metadata": {},
   "outputs": [
    {
     "name": "stdout",
     "output_type": "stream",
     "text": [
      "['PRON AUX NOUN', 'PRON AUX PROPN', 'PRON AUX PROPN PROPN', 'PRON AUX PROPN NOUN']\n"
     ]
    }
   ],
   "source": [
    "with open('questions.json', 'r') as f:\n",
    "    pat = json.load(f)\n",
    "print(pat[0]['patterns'][0]['pos'])"
   ]
  },
  {
   "cell_type": "code",
   "execution_count": 27,
   "metadata": {},
   "outputs": [
    {
     "name": "stdout",
     "output_type": "stream",
     "text": [
      "['who', 'is', 'the', 'president', 'of', 'united states of', 'america']\n"
     ]
    }
   ],
   "source": [
    "texts = [t.text for t in nlp(\"who is the president of united states of america\")]\n",
    "print(texts)"
   ]
  },
  {
   "cell_type": "code",
   "execution_count": 80,
   "metadata": {},
   "outputs": [],
   "source": [
    "class question_matcher:\n",
    "    def __init__(self):\n",
    "        self.patterns= []\n",
    "        self.q_json = self.get_questions_json()\n",
    "        self.matcher = Matcher(nlp.vocab)\n",
    "\n",
    "    def get_questions_json(self):\n",
    "        with open('questions.json', 'r') as f:\n",
    "            pat = json.load(f)\n",
    "        return pat\n",
    "    \n",
    "    def define_keyword(self,question:str):\n",
    "        for q in self.q_json:\n",
    "            if q['keyword'] in question.lower():\n",
    "                keyword = q['keyword']\n",
    "                index = q['qid']\n",
    "        return keyword, index\n",
    "\n",
    "    def match_pattern(self,question):\n",
    "        keyword, index = self.define_keyword(question)\n",
    "        for pattern in self.q_json[index]['patterns']:\n",
    "            pos = self.pattern_to_pos(pattern['pos'])\n",
    "            i = 0\n",
    "            \n",
    "            matcher.remove(\"0\")\n",
    "            matcher.add('0', pos,on_match=self.on_match)\n",
    "\n",
    "            doc = nlp(question)\n",
    "            matches = matcher(doc)\n",
    "            if matches != []:\n",
    "                return pattern['pattern']\n",
    "            else:\n",
    "                print('fail')\n",
    "\n",
    "\n",
    "    def on_match(self,matcher, doc, id, matches):\n",
    "        print('Matched!', matches)\n",
    "\n",
    "    def pattern_to_pos(self, patterns:list):\n",
    "        pos = []\n",
    "        pattern = []\n",
    "        #print(patterns)\n",
    "        for p in patterns:\n",
    "            \n",
    "            itr = []\n",
    "            pattern.append(p)\n",
    "            for token in p.split():\n",
    "                if token != '*':\n",
    "                    itr.append({'POS':token})\n",
    "                else:\n",
    "                    itr.append({})\n",
    "            pos.append(itr)\n",
    "       \n",
    "        return pos\n",
    "qm = question_matcher()\n"
   ]
  },
  {
   "cell_type": "code",
   "execution_count": 81,
   "metadata": {},
   "outputs": [
    {
     "name": "stdout",
     "output_type": "stream",
     "text": [
      "Matched! [(746762829127501960, 0, 6)]\n"
     ]
    },
    {
     "data": {
      "text/plain": [
       "'give me images that contain [ENTITY]'"
      ]
     },
     "execution_count": 81,
     "metadata": {},
     "output_type": "execute_result"
    }
   ],
   "source": [
    "qm.match_pattern('give me images that contain color red')"
   ]
  },
  {
   "cell_type": "code",
   "execution_count": 83,
   "metadata": {},
   "outputs": [
    {
     "name": "stdout",
     "output_type": "stream",
     "text": [
      "fail\n",
      "Matched! [(746762829127501960, 0, 3)]\n"
     ]
    },
    {
     "data": {
      "text/plain": [
       "'who [is,was] [ENTITY]'"
      ]
     },
     "execution_count": 83,
     "metadata": {},
     "output_type": "execute_result"
    }
   ],
   "source": [
    "qm.match_pattern('who is the president of united states')"
   ]
  },
  {
   "cell_type": "code",
   "execution_count": null,
   "metadata": {},
   "outputs": [],
   "source": []
  }
 ],
 "metadata": {
  "kernelspec": {
   "display_name": "Python 3.8.8 ('base')",
   "language": "python",
   "name": "python3"
  },
  "language_info": {
   "codemirror_mode": {
    "name": "ipython",
    "version": 3
   },
   "file_extension": ".py",
   "mimetype": "text/x-python",
   "name": "python",
   "nbconvert_exporter": "python",
   "pygments_lexer": "ipython3",
   "version": "3.8.8"
  },
  "orig_nbformat": 4,
  "vscode": {
   "interpreter": {
    "hash": "44ee107329cf4a2b10dbf9dc2a835ad7dfaf7406a03f5d729fde60d5b9868961"
   }
  }
 },
 "nbformat": 4,
 "nbformat_minor": 2
}
