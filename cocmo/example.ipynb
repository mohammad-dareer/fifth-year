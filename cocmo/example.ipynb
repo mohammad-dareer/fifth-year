{
 "cells": [
  {
   "cell_type": "code",
   "execution_count": 38,
   "metadata": {},
   "outputs": [],
   "source": [
    "import spacy\n",
    "from spacy.matcher import Matcher\n",
    "nlp = spacy.load(\"en_core_web_sm\")\n",
    "nlp.add_pipe(\"merge_entities\")\n",
    "nlp.add_pipe(\"merge_noun_chunks\")\n",
    "import json\n",
    "import re"
   ]
  },
  {
   "cell_type": "code",
   "execution_count": 130,
   "metadata": {},
   "outputs": [],
   "source": [
    "class question_matcher:\n",
    "    def __init__(self):\n",
    "        self.patterns= []\n",
    "        self.q_json = self.get_questions_json()\n",
    "        self.matcher = Matcher(nlp.vocab)\n",
    "\n",
    "    def get_questions_json(self):\n",
    "        with open('questions.json', 'r') as f:\n",
    "            pat = json.load(f)\n",
    "        return pat\n",
    "    \n",
    "    def define_keyword(self,question:str):\n",
    "        for q in self.q_json:\n",
    "            if q['keyword'] in question.lower():\n",
    "                keyword = q['keyword']\n",
    "                index = q['qid']\n",
    "        return keyword, index\n",
    "\n",
    "    def get_focus(self,question:str,ind,pattern):\n",
    "        focus =''\n",
    "        focus_pos = pattern['focus']\n",
    "        token_q = [token.text for token in nlp(question)]\n",
    "        i = 0\n",
    "        start = 0\n",
    "        for token in focus_pos[ind].split():\n",
    "            if(token == 'sf'):\n",
    "                start = 1\n",
    "                continue\n",
    "                \n",
    "            if(token == 'ef'):\n",
    "                start = 0\n",
    "                break;\n",
    "            if(start == 1):\n",
    "                focus = focus + ' ' + token_q[i]\n",
    "            i = i + 1\n",
    "        return focus\n",
    "    \n",
    "    def re_get_focus(self,question:str,ind,pattern):\n",
    "        question_token = [token.text for token in nlp(question)]\n",
    "        focus = ''\n",
    "        focus_pos = pattern['focus']\n",
    "        start = 0\n",
    "        i = 0\n",
    "        for token in focus_pos[ind].split('\\s*'):\n",
    "                if(token == 'sf'):\n",
    "                    start = 1\n",
    "                    i = i - 1\n",
    "                    continue\n",
    "\n",
    "                if(token == 'ef'):\n",
    "                    start = 0\n",
    "                    break\n",
    "\n",
    "                if(token == \".*\" and start == 1):\n",
    "                    j = i\n",
    "                    while(j < len(question_token)):\n",
    "                        focus = focus + ' ' + question_token[j]\n",
    "                        j = j + 1\n",
    "                    focus = focus.strip()\n",
    "                    print(focus)\n",
    "                    return focus\n",
    "\n",
    "                if(start == 1):\n",
    "                    focus = focus + ' ' + question_token[i]\n",
    "                \n",
    "                i = i + 1\n",
    "\n",
    "                # if(i == len(question_token)):\n",
    "                #     print(i)\n",
    "                #     break\n",
    "\n",
    "        focus = focus.strip()\n",
    "        print(focus)\n",
    "\n",
    "    def match_pattern(self,question):\n",
    "        q_pos = [token.pos_ for token in nlp(question)]\n",
    "        keyword, index = self.define_keyword(question)\n",
    "        for pattern in self.q_json[index]['patterns']:\n",
    "            pos = self.pattern_to_pos(pattern['pos'])\n",
    "            self.matcher.add(p, pos)\n",
    "            doc = nlp(question)\n",
    "            matches = self.matcher(doc)\n",
    "            if matches != []:\n",
    "                for match_id, start, end in matches:\n",
    "                    string_id = nlp.vocab.strings[match_id]\n",
    "                    span = doc[start:end]\n",
    "                    print(string_id)\n",
    "                    print(q_pos)\n",
    "                    print(pattern['pos'])\n",
    "                    print(match_id)\n",
    "            else:\n",
    "                print('fail')\n",
    "\n",
    "    def re_match_pattern(self,question):\n",
    "        found = 0\n",
    "        doc = nlp(question)\n",
    "        ltoken = [token.pos_ for token in nlp(question)]\n",
    "        q_pattern = ''\n",
    "        for token in doc:\n",
    "            q_pattern = q_pattern + token.pos_ + ' ' \n",
    "        keyword, index = self.define_keyword(question)\n",
    "        for pattern in self.q_json[index]['patterns']:\n",
    "            matched_pos=0\n",
    "            for pos in pattern['pos']:\n",
    "                regexpos  = f'({pos})'\n",
    "                matches = re.fullmatch(regexpos, q_pattern)\n",
    "                if matches != None:\n",
    "                    print('Matched!')\n",
    "                    print(matches.string)\n",
    "                    print(pos)\n",
    "                    print(pattern['pattern'])\n",
    "                    self.re_get_focus(question,matched_pos,pattern)\n",
    "                    found = 1\n",
    "                    break\n",
    "                matched_pos = matched_pos + 1\n",
    "            if found == 1:\n",
    "                break\n",
    "            \n",
    "\n",
    "\n",
    "    def on_match(self,matcher, doc, id, matches):\n",
    "        print('Matched!', matches)\n",
    "\n",
    "\n",
    "    def pattern_to_pos(self, patterns:list):\n",
    "        pos = []\n",
    "        pattern = []\n",
    "        for p in patterns:\n",
    "            \n",
    "            itr = []\n",
    "            pattern.append(p)\n",
    "            for token in p.split():\n",
    "                if token != '*':\n",
    "                    itr.append({'POS':token})\n",
    "                else:\n",
    "                    itr.append({})\n",
    "            pos.append(itr)\n",
    "        return pos\n",
    "qm = question_matcher()\n"
   ]
  },
  {
   "cell_type": "code",
   "execution_count": 131,
   "metadata": {},
   "outputs": [
    {
     "name": "stdout",
     "output_type": "stream",
     "text": [
      "Matched!\n",
      "PRON AUX PROPN \n",
      "\\s*PRON\\s*AUX\\s*PROPN\\s*\n",
      "what is [ENTITY]\n",
      "atom\n"
     ]
    }
   ],
   "source": [
    "qm.re_match_pattern('what is atom')"
   ]
  },
  {
   "cell_type": "code",
   "execution_count": 102,
   "metadata": {},
   "outputs": [],
   "source": [
    "with open('questions.json', 'r') as f:\n",
    "    patt = json.load(f)\n",
    "\n"
   ]
  },
  {
   "cell_type": "code",
   "execution_count": 127,
   "metadata": {},
   "outputs": [
    {
     "name": "stdout",
     "output_type": "stream",
     "text": [
      "['PRON', 'AUX', 'PROPN']\n",
      "['what', 'is', 'atom']\n"
     ]
    }
   ],
   "source": [
    "doc = nlp(\"what is atom\")\n",
    "print( [token.pos_ for token in doc])\n",
    "print( [token.text for token in doc])"
   ]
  },
  {
   "cell_type": "code",
   "execution_count": 124,
   "metadata": {},
   "outputs": [
    {
     "name": "stdout",
     "output_type": "stream",
     "text": [
      "['SCONJ', 'VERB', 'PROPN', 'VERB', 'NOUN']\n",
      "['when', 'did', 'Bill Gates', 'graduate', 'college']\n"
     ]
    }
   ],
   "source": [
    "doc = nlp(\"when did Bill Gates graduate college\")\n",
    "print( [token.pos_ for token in doc])\n",
    "print( [token.text for token in doc])"
   ]
  },
  {
   "cell_type": "code",
   "execution_count": 47,
   "metadata": {},
   "outputs": [
    {
     "name": "stdout",
     "output_type": "stream",
     "text": [
      "<re.Match object; span=(0, 8), match='llllllll'>\n"
     ]
    }
   ],
   "source": [
    "pos = '.'\n",
    "patteee = f'({\".*\"})'\n",
    "matches = re.fullmatch(patteee, \"llllllll   ll\")\n",
    "print(matches)"
   ]
  },
  {
   "cell_type": "code",
   "execution_count": null,
   "metadata": {},
   "outputs": [],
   "source": []
  }
 ],
 "metadata": {
  "kernelspec": {
   "display_name": "Python 3.8.8 ('base')",
   "language": "python",
   "name": "python3"
  },
  "language_info": {
   "codemirror_mode": {
    "name": "ipython",
    "version": 3
   },
   "file_extension": ".py",
   "mimetype": "text/x-python",
   "name": "python",
   "nbconvert_exporter": "python",
   "pygments_lexer": "ipython3",
   "version": "3.8.8"
  },
  "orig_nbformat": 4,
  "vscode": {
   "interpreter": {
    "hash": "44ee107329cf4a2b10dbf9dc2a835ad7dfaf7406a03f5d729fde60d5b9868961"
   }
  }
 },
 "nbformat": 4,
 "nbformat_minor": 2
}
